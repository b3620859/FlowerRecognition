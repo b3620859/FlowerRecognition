{
 "cells": [
  {
   "cell_type": "markdown",
   "metadata": {},
   "source": [
    "[Source data](https://www.kaggle.com/c/ml100-03-final/data)"
   ]
  },
  {
   "cell_type": "code",
   "execution_count": 1,
   "metadata": {},
   "outputs": [],
   "source": [
    "import os\n",
    "import random\n",
    "import shutil"
   ]
  },
  {
   "cell_type": "code",
   "execution_count": 2,
   "metadata": {},
   "outputs": [],
   "source": [
    "def moveFile(fileDir, tarDir):\n",
    "    pathDir = os.listdir(fileDir)\n",
    "    \n",
    "    filenumber = len(pathDir)\n",
    "    print('Number of source data: %s'%filenumber)\n",
    "#     print(pathDir)\n",
    "    rate = 0.2\n",
    "    picknumber = int(filenumber*rate) \n",
    "    sample = random.sample(pathDir, picknumber)\n",
    "    print('Number of target data: %s'%len(sample))\n",
    "    for name in sample:\n",
    "        shutil.move(fileDir + name, tarDir +name)\n",
    "    return"
   ]
  },
  {
   "cell_type": "code",
   "execution_count": 3,
   "metadata": {},
   "outputs": [
    {
     "name": "stdout",
     "output_type": "stream",
     "text": [
      "File name: daisy\n",
      "Source data file : /home/cslab/Desktop/3th_ML/Final/Data/image_data/train/daisy/\n",
      "Target data file : /home/cslab/Desktop/3th_ML/Final/Data/image_data/valid/daisy/\n",
      "Number of source data: 500\n",
      "Number of target data: 100\n",
      "After number of source data: 400\n",
      "File name: tulip\n",
      "Source data file : /home/cslab/Desktop/3th_ML/Final/Data/image_data/train/tulip/\n",
      "Target data file : /home/cslab/Desktop/3th_ML/Final/Data/image_data/valid/tulip/\n",
      "Number of source data: 633\n",
      "Number of target data: 126\n",
      "After number of source data: 507\n",
      "File name: dandelion\n",
      "Source data file : /home/cslab/Desktop/3th_ML/Final/Data/image_data/train/dandelion/\n",
      "Target data file : /home/cslab/Desktop/3th_ML/Final/Data/image_data/valid/dandelion/\n",
      "Number of source data: 687\n",
      "Number of target data: 137\n",
      "After number of source data: 550\n",
      "File name: rose\n",
      "Source data file : /home/cslab/Desktop/3th_ML/Final/Data/image_data/train/rose/\n",
      "Target data file : /home/cslab/Desktop/3th_ML/Final/Data/image_data/valid/rose/\n",
      "Number of source data: 515\n",
      "Number of target data: 103\n",
      "After number of source data: 412\n",
      "File name: sunflower\n",
      "Source data file : /home/cslab/Desktop/3th_ML/Final/Data/image_data/train/sunflower/\n",
      "Target data file : /home/cslab/Desktop/3th_ML/Final/Data/image_data/valid/sunflower/\n",
      "Number of source data: 488\n",
      "Number of target data: 97\n",
      "After number of source data: 391\n"
     ]
    }
   ],
   "source": [
    "os.mkdir(\"/home/cslab/Desktop/3th_ML/Final/Data/image_data/valid\")\n",
    "\n",
    "path =\"/home/cslab/Desktop/3th_ML/Final/Data/image_data/train/\"\n",
    "dirs = os.listdir(path)\n",
    "\n",
    "for file in dirs:\n",
    "    print('File name: %s'%file)\n",
    "    filename = \"/home/cslab/Desktop/3th_ML/Final/Data/image_data/valid/\" + str(file)\n",
    "    os.mkdir(filename)\n",
    "    fileDir = path + str(file) + \"/\"\n",
    "    tarDir = filename + \"/\"\n",
    "    print('Source data file : %s'%fileDir)\n",
    "    print('Target data file : %s'%tarDir)\n",
    "    moveFile(fileDir, tarDir)\n",
    "    print('After number of source data: %s'%len(os.listdir(fileDir)))"
   ]
  }
 ],
 "metadata": {
  "kernelspec": {
   "display_name": "Python 3",
   "language": "python",
   "name": "python3"
  },
  "language_info": {
   "codemirror_mode": {
    "name": "ipython",
    "version": 3
   },
   "file_extension": ".py",
   "mimetype": "text/x-python",
   "name": "python",
   "nbconvert_exporter": "python",
   "pygments_lexer": "ipython3",
   "version": "3.6.8"
  }
 },
 "nbformat": 4,
 "nbformat_minor": 4
}
